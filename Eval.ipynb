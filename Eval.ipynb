{
 "cells": [
  {
   "cell_type": "markdown",
   "metadata": {},
   "source": [
    "# Introduction\n",
    "This notebook evaluates how the denoising impacts cell annotations. We are using a dataset with w number of immune cell types that has had manual annotation beyond what their pre-trained cell type classification model annotates. This will be our resource for benchmarking the annotations between the noisy and denoised conditions."
   ]
  },
  {
   "cell_type": "code",
   "execution_count": 3,
   "metadata": {},
   "outputs": [],
   "source": [
    "import os\n",
    "import scanpy as sc\n",
    "import numpy as np\n",
    "import pandas as pd\n",
    "# import rpy2.robjects as ro\n",
    "# from rpy2.robjects import pandas2ri\n",
    "# from rpy2.robjects import conversion\n",
    "# from rpy2.robjects import default_converter\n",
    "# from rpy2.robjects.conversion import localconverter\n",
    "# from rpy2.robjects.packages import importr\n",
    "import scipy.sparse as sp\n",
    "import anndata as ad\n",
    "\n",
    "import celltypist\n",
    "from celltypist import models\n",
    "\n",
    "\n",
    "import pandas as pd\n",
    "from anndata import read_h5ad\n",
    "\n",
    "# import dca\n",
    "# help(dca)\n",
    "\n",
    "# from dca.api import dca\n",
    "import tensorflow as tf\n"
   ]
  },
  {
   "cell_type": "markdown",
   "metadata": {},
   "source": [
    "# Loading other datasets "
   ]
  },
  {
   "cell_type": "code",
   "execution_count": 4,
   "metadata": {},
   "outputs": [],
   "source": [
    "data_file_path = '/Users/josephschirle/Documents/Courses/StatsM231B/Stat231B_Project/data'\n",
    "\n",
    "\n",
    "# pbmc68k_reduced_adata = sc.datasets.pbmc68k_reduced() # the 10k or 68k data may be preferred, but this is fast and I don't have to save locally\n",
    "# # Blood cell dataset\n",
    "# paul15_adata = sc.datasets.paul15()\n",
    "# Load the h5 file for the purified 10x data\n",
    "# pure_11_adata = sc.read_h5ad(os.path.join(data_file_path,\"pure_11.h5ad\")) # These are PBMC\n",
    "\n",
    "# PBMC_10x = sc.read_10x_h5(os.path.join(data_file_path, \"pbmc_10k_v3_filtered_feature_bc_matrix.h5\"))\n",
    "# PBMC_10x = sc.read_10x_h5(os.path.join(data_file_path, \"10k_PBMC_3p_nextgem_Chromium_X_raw_feature_bc_matrix.h5\"))\n",
    "\n",
    "# tm_facs_data = read_h5ad(os.path.join(data_file_path,'tabula-muris-senis-facs-processed-official-annotations-Spleen.h5ad'))\n",
    "\n",
    "# lopez_2022 = read_h5ad(os.path.join(data_file_path,'Lopez_2022_sln_208.h5ad'))\n",
    "# print(lopez_2022)\n",
    "\n",
    "Gu_2024 = read_h5ad(os.path.join(data_file_path,'Gu_2024.h5ad'))"
   ]
  },
  {
   "cell_type": "markdown",
   "metadata": {},
   "source": [
    "# Annotating cell type"
   ]
  },
  {
   "cell_type": "code",
   "execution_count": 5,
   "metadata": {},
   "outputs": [],
   "source": [
    "# Normalize total counts and log-transform\n",
    "sc.pp.normalize_total(Gu_2024, target_sum=1e4)\n",
    "sc.pp.log1p(Gu_2024)\n"
   ]
  },
  {
   "cell_type": "code",
   "execution_count": null,
   "metadata": {},
   "outputs": [],
   "source": [
    "model = models.Model.load(os.path.join(data_file_path,'Adult_Mouse_Gut.pkl'))  # Pretrained immune model\n",
    "predictions = celltypist.annotate(Gu_2024, model=model)\n",
    "Gu_2024.obs[\"celltypist_labels\"] = predictions.predicted_labels"
   ]
  },
  {
   "cell_type": "code",
   "execution_count": null,
   "metadata": {},
   "outputs": [],
   "source": [
    "print(list(Gu_2024.obs['celltypist_labels'].unique()))\n",
    "print(list(Gu_2024.obs['Cell_Type'].unique()))"
   ]
  },
  {
   "cell_type": "code",
   "execution_count": 8,
   "metadata": {},
   "outputs": [],
   "source": [
    "# Simplify labeling scheme\n",
    "label_map = {'EarlyGC_2': 'GC',\n",
    "    'Plasma cell': 'PC',\n",
    "    'CD4': 'CD4+ T',\n",
    "    'Naive B cells': 'Naive B',\n",
    "    'EarlyGC_1': 'GC',\n",
    "    'DC': 'DC',\n",
    "    'DC (CD103+ CD11-b)': 'cDC1',\n",
    "    'Activated CD4+ T cell' : 'Activated CD4+ T',\n",
    "    'CD8+ T cell': 'CD8+ T',\n",
    "    'Resting B cell': 'B Cell',\n",
    "    'B cell': 'B Cell',\n",
    "    'Resting CD4+ T cells' : 'CD4+ T',\n",
    "    'pDC' : 'pDC',\n",
    "    'eMBC' : 'eMBC',\n",
    "    'LTi cell' : 'LTi cell',\n",
    "    'PreGC' : 'pre-GC.BCs', \n",
    "    'GC B cell (LZ)': 'GC',\n",
    "    'Stromal cell (DN)' : 'Stromal cell',\n",
    "    'Cd11c Mac' : 'Cd11c Mac',\n",
    "    'Cd206 Mac' : 'Cd206 Mac',\n",
    "    'DC (CD103+ CD11+b)': 'cDC2',\n",
    "    'TA.G2' : 'TA.G2',\n",
    "    'GC B cell (DZ)' : 'GC',\n",
    "    'epithelial cell of large intestine' : 'epithelial cell of large intestine',\n",
    "    'Enterocyte.Progenitor.Early': 'Enterocyte.Progenitor.Early',\n",
    "    'DC (CD103- C2)' : 'DC (CD103- C2)',\n",
    "    'ILC3' : 'ILC3',\n",
    "    'lymphatic' : 'lymphatic',\n",
    "    'Goblet' : 'Goblet',\n",
    "    'Stem' : 'Stem',\n",
    "    'intestinal crypt stem cell' : 'intestinal crypt stem cell',\n",
    "    'TA' : 'TA',\n",
    "    'Paneth' : 'Paneth',\n",
    "    'artery' : 'BEC',\n",
    "    'ILC1' : 'ILC1',\n",
    "    'ILC2' : 'ILC2',\n",
    "    'NKT cell' : 'NKT',\n",
    "    'Enterocyte.Progenitor' : 'Enterocyte.Progenitor'\n",
    "}\n",
    "\n",
    "\n",
    "\n",
    "# Apply the mapping\n",
    "Gu_2024.obs['Noisy_annotation'] = Gu_2024.obs['celltypist_labels'].replace(label_map)\n"
   ]
  },
  {
   "cell_type": "markdown",
   "metadata": {},
   "source": [
    "# Denoising the data"
   ]
  },
  {
   "cell_type": "code",
   "execution_count": null,
   "metadata": {},
   "outputs": [],
   "source": [
    "data_file_path = '/Users/josephschirle/Documents/Courses/StatsM231B/Stat231B_Project/data' #############\n",
    "\n",
    "import tensorflow as tf\n",
    "tf.compat.v1.disable_eager_execution()\n",
    "\n",
    "\n",
    "\n",
    "# Reloading he data to denoise raw counts\n",
    "Gu_2024_denoise = read_h5ad(os.path.join(data_file_path,'Gu_2024.h5ad'))\n",
    "# Remove genes with zero expression across all cells\n",
    "sc.pp.filter_genes(Gu_2024_denoise, min_counts=1)\n",
    "\n",
    "# Apply DCA denoising\n",
    "sc.external.pp.dca(Gu_2024_denoise)\n",
    "\n",
    "\n",
    "# Normalize total counts and log-transform\n",
    "sc.pp.normalize_total(Gu_2024_denoise, target_sum=1e4)\n",
    "sc.pp.log1p(Gu_2024_denoise)\n",
    "\n",
    "Gu_2024_denoise.write(os.path.join(data_file_path, 'Denoised_normalized_log_Gu_2024.h5ad'))\n",
    "\n",
    "\n"
   ]
  },
  {
   "cell_type": "code",
   "execution_count": null,
   "metadata": {},
   "outputs": [],
   "source": [
    "model = models.Model.load(os.path.join(data_file_path,'Adult_Mouse_Gut.pkl'))  # Pretrained immune model\n",
    "predictions = celltypist.annotate(Gu_2024_denoise, model=model)\n",
    "Gu_2024_denoise.obs[\"celltypist_labels\"] = predictions.predicted_labels"
   ]
  },
  {
   "cell_type": "code",
   "execution_count": null,
   "metadata": {},
   "outputs": [],
   "source": [
    "import tensorflow as tf\n",
    "\n",
    "# Ensure eager execution is enabled as the first action\n",
    "tf.config.run_functions_eagerly(True)\n",
    "\n",
    "print(\"Eager execution status:\", tf.executing_eagerly())\n",
    "\n",
    "# A simple tensor operation to test eager execution\n",
    "x = tf.constant([1, 2, 3])\n",
    "y = tf.constant([4, 5, 6])\n",
    "z = x + y\n",
    "print(\"Result of x + y:\", z)\n"
   ]
  }
 ],
 "metadata": {
  "kernelspec": {
   "display_name": "Python 3",
   "language": "python",
   "name": "python3"
  },
  "language_info": {
   "codemirror_mode": {
    "name": "ipython",
    "version": 3
   },
   "file_extension": ".py",
   "mimetype": "text/x-python",
   "name": "python",
   "nbconvert_exporter": "python",
   "pygments_lexer": "ipython3",
   "version": "3.9.21"
  }
 },
 "nbformat": 4,
 "nbformat_minor": 2
}
